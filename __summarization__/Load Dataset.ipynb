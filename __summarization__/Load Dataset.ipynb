{
 "cells": [
  {
   "cell_type": "code",
   "execution_count": null,
   "id": "db7eaaac",
   "metadata": {},
   "outputs": [],
   "source": [
    "!pip install pandas"
   ]
  },
  {
   "cell_type": "code",
   "execution_count": null,
   "id": "6277bd93",
   "metadata": {},
   "outputs": [],
   "source": [
    "!pip install datasets"
   ]
  },
  {
   "cell_type": "code",
   "execution_count": null,
   "id": "6a301c90",
   "metadata": {},
   "outputs": [],
   "source": [
    "import glob\n",
    "\n",
    "import os\n",
    "\n",
    "import pandas as pd\n",
    "\n",
    "from pathlib import Path"
   ]
  },
  {
   "cell_type": "code",
   "execution_count": null,
   "id": "9c06e91d",
   "metadata": {},
   "outputs": [],
   "source": [
    "files = glob.glob(\"../**/*.txt\")"
   ]
  },
  {
   "cell_type": "code",
   "execution_count": null,
   "id": "5b1fcd32",
   "metadata": {},
   "outputs": [],
   "source": [
    "def read_text(filename):\n",
    "    with open(filename) as f:\n",
    "        return f.read()\n",
    "    \n",
    "    \n",
    "def get_target_filename(filename):\n",
    "    path = Path(filename)\n",
    "    directory = path.parent.name\n",
    "    return os.path.join(\".\", directory, path.name)\n",
    "\n",
    "\n",
    "def get_target_filename(filename):\n",
    "    path = Path(filename)\n",
    "    directory = path.parent.name\n",
    "    return os.path.join(directory, path.name)\n",
    "\n",
    "\n",
    "def file_exists(filename):    \n",
    "    return os.path.isfile(filename)"
   ]
  },
  {
   "cell_type": "code",
   "execution_count": null,
   "id": "1abc4da1",
   "metadata": {},
   "outputs": [],
   "source": [
    "data = []\n",
    "\n",
    "for file in files:\n",
    "    summ_file = get_target_filename(file)\n",
    "    \n",
    "    if file_exists(summ_file) and file_exists(file):    \n",
    "        source_text = read_text(file)\n",
    "        target_text = read_text(summ_file)\n",
    "\n",
    "        data.append( (source_text, file, target_text, summ_file) )"
   ]
  },
  {
   "cell_type": "code",
   "execution_count": null,
   "id": "64d010e5",
   "metadata": {},
   "outputs": [],
   "source": [
    "df = pd.DataFrame(data, columns=[\"source_text\", \"source_filename\", \"target_text\", \"target_filename\"])\n",
    "\n",
    "df.shape"
   ]
  },
  {
   "cell_type": "code",
   "execution_count": null,
   "id": "ba63f015",
   "metadata": {},
   "outputs": [],
   "source": [
    "df.head()"
   ]
  },
  {
   "cell_type": "code",
   "execution_count": null,
   "id": "6a376428",
   "metadata": {},
   "outputs": [],
   "source": [
    "df.to_csv(\"news-articles-pt-br.csv\", index=False)"
   ]
  },
  {
   "cell_type": "code",
   "execution_count": null,
   "id": "1dd9f846",
   "metadata": {},
   "outputs": [],
   "source": [
    "from datasets import load_dataset\n",
    "\n",
    "news_articles = load_dataset('csv', data_files='news-articles-pt-br.csv',  split='train')\n",
    "\n",
    "news_articles"
   ]
  },
  {
   "cell_type": "code",
   "execution_count": null,
   "id": "dfcd9870",
   "metadata": {},
   "outputs": [],
   "source": [
    "dataset = news_articles.train_test_split(test_size=0.2)\n",
    "\n",
    "val_dataset = dataset['test']\n",
    "train_dataset = dataset['train']"
   ]
  },
  {
   "cell_type": "code",
   "execution_count": null,
   "id": "0e6aa120",
   "metadata": {},
   "outputs": [],
   "source": [
    "val_dataset"
   ]
  },
  {
   "cell_type": "code",
   "execution_count": null,
   "id": "9d36d540",
   "metadata": {},
   "outputs": [],
   "source": [
    "train_dataset"
   ]
  }
 ],
 "metadata": {
  "kernelspec": {
   "display_name": "Python 3 (ipykernel)",
   "language": "python",
   "name": "python3"
  },
  "language_info": {
   "codemirror_mode": {
    "name": "ipython",
    "version": 3
   },
   "file_extension": ".py",
   "mimetype": "text/x-python",
   "name": "python",
   "nbconvert_exporter": "python",
   "pygments_lexer": "ipython3",
   "version": "3.10.8"
  }
 },
 "nbformat": 4,
 "nbformat_minor": 5
}
