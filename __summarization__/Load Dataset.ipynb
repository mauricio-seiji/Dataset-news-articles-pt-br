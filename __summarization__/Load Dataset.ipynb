{
 "cells": [
  {
   "cell_type": "code",
   "execution_count": 27,
   "id": "6a301c90",
   "metadata": {},
   "outputs": [],
   "source": [
    "import glob\n",
    "\n",
    "import os\n",
    "\n",
    "import pandas as pd\n",
    "\n",
    "from pathlib import Path"
   ]
  },
  {
   "cell_type": "code",
   "execution_count": 16,
   "id": "9c06e91d",
   "metadata": {},
   "outputs": [],
   "source": [
    "files = glob.glob(\"../**/*.txt\")"
   ]
  },
  {
   "cell_type": "code",
   "execution_count": 40,
   "id": "5b1fcd32",
   "metadata": {},
   "outputs": [],
   "source": [
    "def read_text(filename):\n",
    "    with open(filename) as f:\n",
    "        return f.read()\n",
    "    \n",
    "    \n",
    "def get_target_filename(filename):\n",
    "    path = Path(filename)\n",
    "    directory = path.parent.name\n",
    "    return os.path.join(\".\", directory, path.name)\n",
    "\n",
    "\n",
    "def get_target_filename(filename):\n",
    "    path = Path(filename)\n",
    "    directory = path.parent.name\n",
    "    return os.path.join(directory, path.name)\n",
    "\n",
    "\n",
    "def file_exists(filename):    \n",
    "    return os.path.isfile(filename)"
   ]
  },
  {
   "cell_type": "code",
   "execution_count": 41,
   "id": "1abc4da1",
   "metadata": {},
   "outputs": [],
   "source": [
    "data = []\n",
    "\n",
    "for file in files:\n",
    "    summ_file = get_target_filename(file)\n",
    "    \n",
    "    if file_exists(summ_file) and file_exists(file):    \n",
    "        source_text = read_text(file)\n",
    "        target_text = read_text(summ_file)\n",
    "\n",
    "        data.append( (source_text, file, target_text, summ_file) )"
   ]
  },
  {
   "cell_type": "code",
   "execution_count": 43,
   "id": "64d010e5",
   "metadata": {},
   "outputs": [
    {
     "data": {
      "text/plain": [
       "(412, 4)"
      ]
     },
     "execution_count": 43,
     "metadata": {},
     "output_type": "execute_result"
    }
   ],
   "source": [
    "df = pd.DataFrame(data, columns=[\"source_text\", \"source_filename\", \"target_text\", \"target_filename\"])\n",
    "\n",
    "df.shape"
   ]
  },
  {
   "cell_type": "code",
   "execution_count": 44,
   "id": "ba63f015",
   "metadata": {},
   "outputs": [
    {
     "data": {
      "text/html": [
       "<div>\n",
       "<style scoped>\n",
       "    .dataframe tbody tr th:only-of-type {\n",
       "        vertical-align: middle;\n",
       "    }\n",
       "\n",
       "    .dataframe tbody tr th {\n",
       "        vertical-align: top;\n",
       "    }\n",
       "\n",
       "    .dataframe thead th {\n",
       "        text-align: right;\n",
       "    }\n",
       "</style>\n",
       "<table border=\"1\" class=\"dataframe\">\n",
       "  <thead>\n",
       "    <tr style=\"text-align: right;\">\n",
       "      <th></th>\n",
       "      <th>source_text</th>\n",
       "      <th>source_filename</th>\n",
       "      <th>target_text</th>\n",
       "      <th>target_filename</th>\n",
       "    </tr>\n",
       "  </thead>\n",
       "  <tbody>\n",
       "    <tr>\n",
       "      <th>0</th>\n",
       "      <td>Simaria investe pesado e compra restaurante n...</td>\n",
       "      <td>../entretenimento/28.txt</td>\n",
       "      <td>Simaria, da dupla Simone e Simaria, comprou um...</td>\n",
       "      <td>entretenimento/28.txt</td>\n",
       "    </tr>\n",
       "    <tr>\n",
       "      <th>1</th>\n",
       "      <td>K-Pop: aespa faz primeira performance de “Blac...</td>\n",
       "      <td>../entretenimento/86.txt</td>\n",
       "      <td>O grupo de K-Pop aespa, da SM Entertainment, f...</td>\n",
       "      <td>entretenimento/86.txt</td>\n",
       "    </tr>\n",
       "    <tr>\n",
       "      <th>2</th>\n",
       "      <td>Samba, cachaça e piolhos em fã: Livro mostra r...</td>\n",
       "      <td>../entretenimento/56.txt</td>\n",
       "      <td>O livro \"Jimmy Page no Brasil\", escrito por Le...</td>\n",
       "      <td>entretenimento/56.txt</td>\n",
       "    </tr>\n",
       "    <tr>\n",
       "      <th>3</th>\n",
       "      <td>Michel Teló surge na praia de máscara: “respir...</td>\n",
       "      <td>../entretenimento/49.txt</td>\n",
       "      <td>Michel Teló, cantor sertanejo, compartilhou um...</td>\n",
       "      <td>entretenimento/49.txt</td>\n",
       "    </tr>\n",
       "    <tr>\n",
       "      <th>4</th>\n",
       "      <td>\\nAtor de Flor do Caribe, Jonas Mello morre ao...</td>\n",
       "      <td>../entretenimento/15.txt</td>\n",
       "      <td>O ator Jonas Mello, conhecido por seu papel em...</td>\n",
       "      <td>entretenimento/15.txt</td>\n",
       "    </tr>\n",
       "  </tbody>\n",
       "</table>\n",
       "</div>"
      ],
      "text/plain": [
       "                                         source_text  \\\n",
       "0   Simaria investe pesado e compra restaurante n...   \n",
       "1  K-Pop: aespa faz primeira performance de “Blac...   \n",
       "2  Samba, cachaça e piolhos em fã: Livro mostra r...   \n",
       "3  Michel Teló surge na praia de máscara: “respir...   \n",
       "4  \\nAtor de Flor do Caribe, Jonas Mello morre ao...   \n",
       "\n",
       "            source_filename  \\\n",
       "0  ../entretenimento/28.txt   \n",
       "1  ../entretenimento/86.txt   \n",
       "2  ../entretenimento/56.txt   \n",
       "3  ../entretenimento/49.txt   \n",
       "4  ../entretenimento/15.txt   \n",
       "\n",
       "                                         target_text        target_filename  \n",
       "0  Simaria, da dupla Simone e Simaria, comprou um...  entretenimento/28.txt  \n",
       "1  O grupo de K-Pop aespa, da SM Entertainment, f...  entretenimento/86.txt  \n",
       "2  O livro \"Jimmy Page no Brasil\", escrito por Le...  entretenimento/56.txt  \n",
       "3  Michel Teló, cantor sertanejo, compartilhou um...  entretenimento/49.txt  \n",
       "4  O ator Jonas Mello, conhecido por seu papel em...  entretenimento/15.txt  "
      ]
     },
     "execution_count": 44,
     "metadata": {},
     "output_type": "execute_result"
    }
   ],
   "source": [
    "df.head()"
   ]
  }
 ],
 "metadata": {
  "kernelspec": {
   "display_name": "Python 3 (ipykernel)",
   "language": "python",
   "name": "python3"
  },
  "language_info": {
   "codemirror_mode": {
    "name": "ipython",
    "version": 3
   },
   "file_extension": ".py",
   "mimetype": "text/x-python",
   "name": "python",
   "nbconvert_exporter": "python",
   "pygments_lexer": "ipython3",
   "version": "3.9.15"
  }
 },
 "nbformat": 4,
 "nbformat_minor": 5
}
